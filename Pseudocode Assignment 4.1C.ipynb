{
 "cells": [
  {
   "cell_type": "markdown",
   "metadata": {},
   "source": [
    "# Pseudocode Dynamic Programming"
   ]
  },
  {
   "cell_type": "code",
   "execution_count": 24,
   "metadata": {},
   "outputs": [
    {
     "name": "stdout",
     "output_type": "stream",
     "text": [
      "5\n"
     ]
    }
   ],
   "source": [
    "#A classical case for demonstrating dynamic programming is the fibonnaci sequence\n",
    "#The fibonnaci sequence is a sequence of numbers, that begins with 2 1s. Every subsequent number is obtained from the sum of the previous 2 numbers\n",
    "\n",
    "memoization = {} #We create an empty dictionary for the Memoixzation process\n",
    "\n",
    "def fibonacci(n): #We take in an argument to determine the fibonacci number at n\n",
    "    if n ==0:\n",
    "        return 0 \n",
    "    if n ==1:\n",
    "        return 1\n",
    "    elif n in memoization: #This is to check if the result is already in our memoization dictionary\n",
    "        return memoization[n] #If the resul is in our dictionary, the function ends here\n",
    "    else:\n",
    "        memoization[n]=fib(n-1)+fib(n-2) #Otherwise, cacheing this new result in the memoization dictionary\n",
    "        return memoization[n]\n",
    "    \n",
    "print(fibonacci(5)) #The fifth n in the sequence of fibonacci is 5   "
   ]
  },
  {
   "cell_type": "markdown",
   "metadata": {},
   "source": [
    "# Pseudocode Policy Iteration"
   ]
  },
  {
   "cell_type": "markdown",
   "metadata": {},
   "source": [
    "### Initialization of a Random Policy: π\n",
    "\n",
    "#### Policy Evaluation\n",
    "Loop:\n",
    "Initialize V(s)=0 or random\n",
    "    \n",
    "    Loop:\n",
    "        Δ = 0 -> Stores the maximum change on each iteration\n",
    "        for s in all states except terminal:\n",
    "                        oldv = V(s) -> Save the existing value\n",
    "                        newv = Bellman's Equation -> Compute the new value \n",
    "                        Δ = Absolute difference of newv-old v (Update Δ)\n",
    "        if Δ < threshold:\n",
    "            break -> And policy Evaluation is complete\n",
    "        \n",
    "              \n",
    "        \n",
    "#### Policy Improvement\n",
    "    policychange = true ->If any of the next steps lead to a change, we set this to false\n",
    "    for  s in all states except terminal:\n",
    "                        oldaction = π(s)\n",
    "                        π(s) = using argmax equation\n",
    "                        if oldaction != π(s) -> policychange = False\n",
    "    if policychange:\n",
    "        break -> Since the policy hasnt changed, the value will also not change. If the policy has changed, we continue \n",
    "                 policy iteration.      "
   ]
  },
  {
   "cell_type": "markdown",
   "metadata": {},
   "source": [
    "# Pseudocode Value Iteration"
   ]
  },
  {
   "cell_type": "markdown",
   "metadata": {},
   "source": [
    "```\n",
    "Initialize random V(s) or = 0\n",
    "\n",
    "Loop:\n",
    "    Δ = 0 -> Stores the maximum change on each iteration\n",
    "    for s in all states except terminal:\n",
    "        oldv = V(s) -> Save the existing value\n",
    "        newv = max over all actions of q function for the given state\n",
    "        Δ = Absolute difference of newv-old v (Update Δ)\n",
    "    if Δ < threshold:\n",
    "        break -> Once we break out, we have found the optimal value function V*\n",
    "         \n",
    "for s in all states except terminal:\n",
    "    π*(s) = argmax of bellmans expression -> For optimal policy \n",
    "``` \n",
    "      "
   ]
  }
 ],
 "metadata": {
  "kernelspec": {
   "display_name": "Python 3",
   "language": "python",
   "name": "python3"
  },
  "language_info": {
   "codemirror_mode": {
    "name": "ipython",
    "version": 3
   },
   "file_extension": ".py",
   "mimetype": "text/x-python",
   "name": "python",
   "nbconvert_exporter": "python",
   "pygments_lexer": "ipython3",
   "version": "3.7.6"
  }
 },
 "nbformat": 4,
 "nbformat_minor": 4
}
